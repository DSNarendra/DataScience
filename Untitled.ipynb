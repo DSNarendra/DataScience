{
 "cells": [
  {
   "cell_type": "code",
   "execution_count": 1,
   "id": "438fa122-ff0e-45e8-a4f9-98c07c3e15f6",
   "metadata": {},
   "outputs": [
    {
     "name": "stdout",
     "output_type": "stream",
     "text": [
      "Narendra Singh\n"
     ]
    }
   ],
   "source": [
    "print(\"Narendra Singh\")\n"
   ]
  },
  {
   "cell_type": "code",
   "execution_count": 3,
   "id": "44202fc5-0b19-4583-ab5a-85228cdd73f8",
   "metadata": {},
   "outputs": [
    {
     "name": "stdout",
     "output_type": "stream",
     "text": [
      "data science world\n"
     ]
    }
   ],
   "source": [
    "print(\"data science world\") \n"
   ]
  },
  {
   "cell_type": "code",
   "execution_count": 31,
   "id": "c9a8edf0-3419-4c95-a3c4-f8c00e8ccb2b",
   "metadata": {},
   "outputs": [
    {
     "data": {
      "text/plain": [
       "8.25"
      ]
     },
     "execution_count": 31,
     "metadata": {},
     "output_type": "execute_result"
    }
   ],
   "source": [
    "8+10/2/5/1/2/2"
   ]
  },
  {
   "cell_type": "code",
   "execution_count": 7,
   "id": "534d47b3-6fdb-47e6-9e15-b5d1f8c04bd1",
   "metadata": {},
   "outputs": [
    {
     "data": {
      "text/plain": [
       "2"
      ]
     },
     "execution_count": 7,
     "metadata": {},
     "output_type": "execute_result"
    }
   ],
   "source": [
    "4-2"
   ]
  },
  {
   "cell_type": "code",
   "execution_count": 11,
   "id": "fddeba04-56c4-4321-be81-a9e40f00516f",
   "metadata": {},
   "outputs": [
    {
     "name": "stdout",
     "output_type": "stream",
     "text": [
      "4.0\n"
     ]
    }
   ],
   "source": [
    "print (8/2)"
   ]
  },
  {
   "cell_type": "code",
   "execution_count": 13,
   "id": "f55dafa2-9c05-421b-b5c3-f35db075c34f",
   "metadata": {},
   "outputs": [
    {
     "name": "stdout",
     "output_type": "stream",
     "text": [
      "64.0\n"
     ]
    }
   ],
   "source": [
    "print(8*8/2*2)"
   ]
  },
  {
   "cell_type": "code",
   "execution_count": 17,
   "id": "4ab20946-ac03-4e62-a032-669ee30404e6",
   "metadata": {},
   "outputs": [
    {
     "data": {
      "text/plain": [
       "8.0"
      ]
     },
     "execution_count": 17,
     "metadata": {},
     "output_type": "execute_result"
    }
   ],
   "source": [
    "#awesome  \n",
    "\n",
    "(8/8*8)  "
   ]
  },
  {
   "cell_type": "code",
   "execution_count": null,
   "id": "ec7cf88b-c1bf-495f-b64e-2699f229bb67",
   "metadata": {},
   "outputs": [],
   "source": [
    "#"
   ]
  },
  {
   "cell_type": "code",
   "execution_count": null,
   "id": "3a6d0922-76e5-4042-8f80-19c54e7f4e0d",
   "metadata": {},
   "outputs": [],
   "source": [
    "#python is a great language\n"
   ]
  },
  {
   "cell_type": "code",
   "execution_count": 21,
   "id": "53490eec-8614-4f39-a874-da9985eccb7b",
   "metadata": {},
   "outputs": [
    {
     "data": {
      "text/plain": [
       "9"
      ]
     },
     "execution_count": 21,
     "metadata": {},
     "output_type": "execute_result"
    }
   ],
   "source": [
    "9"
   ]
  },
  {
   "cell_type": "code",
   "execution_count": null,
   "id": "22b2e3fe-ad48-47d6-b351-d52a91886c9d",
   "metadata": {},
   "outputs": [],
   "source": []
  },
  {
   "cell_type": "code",
   "execution_count": null,
   "id": "3579e902-0099-4865-ad38-c7df9e15b86e",
   "metadata": {},
   "outputs": [],
   "source": []
  },
  {
   "cell_type": "code",
   "execution_count": null,
   "id": "0ac6e229-843c-4dae-943c-9b75e74e15a0",
   "metadata": {},
   "outputs": [],
   "source": []
  },
  {
   "cell_type": "code",
   "execution_count": null,
   "id": "e902ba64-4562-487a-bca2-c30337941969",
   "metadata": {},
   "outputs": [],
   "source": []
  },
  {
   "cell_type": "code",
   "execution_count": null,
   "id": "e6903246-2c9f-4848-b6dd-40dd944bf592",
   "metadata": {},
   "outputs": [],
   "source": []
  },
  {
   "cell_type": "code",
   "execution_count": null,
   "id": "1dfb2128-9ee7-4bea-943e-279e88e3fe91",
   "metadata": {},
   "outputs": [],
   "source": []
  },
  {
   "cell_type": "code",
   "execution_count": null,
   "id": "4cbb7473-cd9d-419b-a554-bbad8ad19d67",
   "metadata": {},
   "outputs": [],
   "source": []
  },
  {
   "cell_type": "code",
   "execution_count": null,
   "id": "97d55a42-ea23-4f0f-be55-48fef2c7ab05",
   "metadata": {},
   "outputs": [],
   "source": []
  },
  {
   "cell_type": "code",
   "execution_count": null,
   "id": "659f2e5c-cc0c-47ae-a177-6ef719ff56fc",
   "metadata": {},
   "outputs": [],
   "source": []
  },
  {
   "cell_type": "code",
   "execution_count": null,
   "id": "2721fbb7-e6d9-4a5a-822a-72ca31d182a8",
   "metadata": {},
   "outputs": [],
   "source": []
  }
 ],
 "metadata": {
  "kernelspec": {
   "display_name": "Python 3 (ipykernel)",
   "language": "python",
   "name": "python3"
  },
  "language_info": {
   "codemirror_mode": {
    "name": "ipython",
    "version": 3
   },
   "file_extension": ".py",
   "mimetype": "text/x-python",
   "name": "python",
   "nbconvert_exporter": "python",
   "pygments_lexer": "ipython3",
   "version": "3.12.4"
  }
 },
 "nbformat": 4,
 "nbformat_minor": 5
}
